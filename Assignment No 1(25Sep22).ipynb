{
 "cells": [
  {
   "cell_type": "markdown",
   "id": "4808baf6-b5df-4e2b-9ea8-9d79013a893b",
   "metadata": {},
   "source": [
    "# Assignment No 1                                              # Date- 25 Sep 2022"
   ]
  },
  {
   "cell_type": "markdown",
   "id": "0828aecd-a0bf-4406-9543-af8ec82b2ebe",
   "metadata": {},
   "source": [
    "# 1. Find the all types of errors & why .Explain with examples"
   ]
  },
  {
   "cell_type": "markdown",
   "id": "778017fc-9745-41f2-b430-78c1e33c9e83",
   "metadata": {},
   "source": [
    "There are following types of error occured in python such as Type Error, syntax errors, logic errors & unsupported operators"
   ]
  },
  {
   "cell_type": "code",
   "execution_count": 1,
   "id": "8e04f59a-3b1d-439f-94a3-b209c9cf30d5",
   "metadata": {},
   "outputs": [
    {
     "ename": "TypeError",
     "evalue": "can only concatenate str (not \"int\") to str",
     "output_type": "error",
     "traceback": [
      "\u001b[0;31m---------------------------------------------------------------------------\u001b[0m",
      "\u001b[0;31mTypeError\u001b[0m                                 Traceback (most recent call last)",
      "Input \u001b[0;32mIn [1]\u001b[0m, in \u001b[0;36m<cell line: 3>\u001b[0;34m()\u001b[0m\n\u001b[1;32m      1\u001b[0m geek \u001b[38;5;241m=\u001b[39m \u001b[38;5;124m\"\u001b[39m\u001b[38;5;124mGeeks\u001b[39m\u001b[38;5;124m\"\u001b[39m\n\u001b[1;32m      2\u001b[0m num \u001b[38;5;241m=\u001b[39m \u001b[38;5;241m4\u001b[39m\n\u001b[0;32m----> 3\u001b[0m \u001b[38;5;28mprint\u001b[39m(\u001b[43mgeek\u001b[49m\u001b[43m \u001b[49m\u001b[38;5;241;43m+\u001b[39;49m\u001b[43m \u001b[49m\u001b[43mnum\u001b[49m \u001b[38;5;241m+\u001b[39m geek)\n",
      "\u001b[0;31mTypeError\u001b[0m: can only concatenate str (not \"int\") to str"
     ]
    }
   ],
   "source": [
    "geek = \"Geeks\"\n",
    "num = 4\n",
    "print(geek + num + geek)"
   ]
  },
  {
   "cell_type": "code",
   "execution_count": null,
   "id": "d1e33ccc-f17f-4021-b5d1-f2379932093e",
   "metadata": {},
   "outputs": [],
   "source": [
    "NameError                                 Traceback (most recent call last)\n",
    "Input In [1], in <cell line: 1>()\n",
    "----> 1 a.islower()\n",
    "\n",
    "NameError: name 'a' is not defined"
   ]
  },
  {
   "cell_type": "code",
   "execution_count": null,
   "id": "bcfbe57b-bc52-4427-820f-e7f95fe7135a",
   "metadata": {},
   "outputs": [],
   "source": [
    "print = 12 # as a variable\n",
    "type(print)\n",
    "print(\"Hi there\")"
   ]
  },
  {
   "cell_type": "markdown",
   "id": "692cd68f-b962-4592-baa2-abdc5ccd075e",
   "metadata": {},
   "source": [
    "# 2. Take input of users Take A & Take B print their Sum, Multiplication, divison, square of the numbers"
   ]
  },
  {
   "cell_type": "code",
   "execution_count": null,
   "id": "705f12bd-7e9e-4fbf-a62c-3f2e9655dbea",
   "metadata": {},
   "outputs": [],
   "source": [
    "A=int(input(\"enter A\"))\n",
    "B= int(input(\"enter B\"))\n",
    "print(f\" enter the sum:{A+B}\")\n",
    "print(f\" enter the sum:{A-B}\")\n",
    "print(f\" enter the sum:{A*B}\")\n",
    "print(f\" enter the sum:{A**B}\")\n",
    "print(f\" enter the sum:{A/B}\")"
   ]
  },
  {
   "cell_type": "markdown",
   "id": "4808c3d8-f9ea-4d22-ad5b-96658d68e3bc",
   "metadata": {},
   "source": [
    "# 3.How many reserved keywords are their & why we should not use them as variable name\n"
   ]
  },
  {
   "cell_type": "markdown",
   "id": "4feb45a9-91aa-47cf-97c3-9049b9e1b7cc",
   "metadata": {},
   "source": [
    "Almost 32-33 reserved keywords are in python, like \n",
    "and       del       from      not       while    \n",
    "as        elif      global    or        with     \n",
    "assert    else      if        pass      yield    \n",
    "break     except    import    print              \n",
    "class     exec      in        raise              \n",
    "continue  finally   is        return             \n",
    "def       for       lambda    try\n",
    "\n",
    "but version wise few are acts as constants and few keyword combination is recognised\n",
    "if i use keyword as vaiable it shows invalid syntax\n",
    "\n",
    "and=10\n",
    "  Input In [6]\n",
    "    and=10\n",
    "    ^\n",
    "SyntaxError: invalid syntax\n",
    "\n"
   ]
  },
  {
   "cell_type": "markdown",
   "id": "418c0c5e-b0ac-4a07-8799-9ba7fbb33763",
   "metadata": {},
   "source": [
    "# 4. create email Id using inputs in the following format <lastname>.<firstname>@gmail.com"
   ]
  },
  {
   "cell_type": "code",
   "execution_count": null,
   "id": "29276274-4a76-4cec-9581-edeca79d0702",
   "metadata": {},
   "outputs": [],
   "source": [
    "lastname, firstname,birthyear = \"patil\", \"prashant\", \"1978\"\n",
    "print(f\"{lastname}.{firstname}{birthyear}@gmail.com\")"
   ]
  },
  {
   "cell_type": "markdown",
   "id": "fc82ac11-57d3-4eb5-a7c5-16203cab1abb",
   "metadata": {},
   "source": [
    "# 5. Try to print the following lines\n",
    "- hi i m sunny\n",
    "- my address is 22/3\n",
    "- I earn 20$ daily.\n"
   ]
  },
  {
   "cell_type": "code",
   "execution_count": null,
   "id": "1211d6af-d338-4a95-92a7-368cfbb8499c",
   "metadata": {},
   "outputs": [],
   "source": [
    "name, address, salary = \"Sunny\", \"Bengaluru\", \"20$\"\n",
    "print(f\"\"\"\n",
    "Hi I am: {name}\n",
    "My address is: {place}\n",
    "I earn daily: {salary}\n",
    "\"\"\")"
   ]
  },
  {
   "cell_type": "markdown",
   "id": "e353427a-a868-4c2e-80d7-e8a8f9b1ba13",
   "metadata": {},
   "source": [
    "# 6. Take user input(Name,DOB,City) to fill a form for your college & create their email IDS"
   ]
  },
  {
   "cell_type": "code",
   "execution_count": null,
   "id": "5b82a801-251b-4336-8734-40f086574559",
   "metadata": {},
   "outputs": [],
   "source": [
    "lastname, firstname,dateofbirth,city = \"patil\", \"prashant\", \"1807\",\"Nashik\"\n",
    "print(f\"{lastname}{firstname}.{dateofbirth}{city}@ineuron.in\")"
   ]
  },
  {
   "cell_type": "markdown",
   "id": "7b285b22-6bfa-4198-8582-819b4ed7b5f9",
   "metadata": {},
   "source": [
    "# 7. How to convert the following\n",
    "  a. \"22.4\" into 22\n",
    "  b. \"22\" into complex\n",
    "\n"
   ]
  },
  {
   "cell_type": "code",
   "execution_count": 7,
   "id": "aec11b2f-5c5e-4a06-9fc4-99dc69d158fb",
   "metadata": {},
   "outputs": [
    {
     "name": "stdout",
     "output_type": "stream",
     "text": [
      "data type before: <class 'str'>, value of A: 22.4\n",
      "data type after: <class 'float'>, value of A: 22.4\n",
      "data type before: <class 'float'>, value of A: 22.4\n",
      "data type after: <class 'int'>, value of A: 22\n"
     ]
    }
   ],
   "source": [
    "# String to integer\n",
    "A = \"22.4\"\n",
    "print(f\"data type before: {type(A)}, value of A: {A}\")\n",
    "A = float(A)\n",
    "print(f\"data type after: {type(A)}, value of A: {A}\")\n",
    "A = 22.4\n",
    "print(f\"data type before: {type(A)}, value of A: {A}\")\n",
    "A = int(A)\n",
    "print(f\"data type after: {type(A)}, value of A: {A}\")"
   ]
  },
  {
   "cell_type": "code",
   "execution_count": null,
   "id": "04e7fc04-24c8-4335-b024-25450de3938d",
   "metadata": {},
   "outputs": [],
   "source": [
    "# String to Complex\n",
    "A = \"22\"\n",
    "print(f\"data type before: {type(A)}, value of A: {A}\")\n",
    "A = float(A)\n",
    "print(f\"data type after: {type(A)}, value of A: {A}\")\n",
    "A = 22.0\n",
    "print(f\"data type before: {type(A)}, value of A: {A}\")\n",
    "A = int(A)\n",
    "print(f\"data type after: {type(A)}, value of A: {A}\")"
   ]
  },
  {
   "cell_type": "code",
   "execution_count": null,
   "id": "d9d16a7d-91fb-4483-945e-cb3522167ad0",
   "metadata": {},
   "outputs": [],
   "source": []
  }
 ],
 "metadata": {
  "kernelspec": {
   "display_name": "Python 3 (ipykernel)",
   "language": "python",
   "name": "python3"
  },
  "language_info": {
   "codemirror_mode": {
    "name": "ipython",
    "version": 3
   },
   "file_extension": ".py",
   "mimetype": "text/x-python",
   "name": "python",
   "nbconvert_exporter": "python",
   "pygments_lexer": "ipython3",
   "version": "3.9.12"
  }
 },
 "nbformat": 4,
 "nbformat_minor": 5
}
